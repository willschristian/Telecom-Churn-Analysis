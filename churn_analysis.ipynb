## Telecom Churn Analysis: Python EDA Notebook

### 1. Introduction
This notebook documents the entire Python workflow used to analyze churn behavior, usage patterns, and network transitions for a telecom dataset. The dataset spans two months and contains fields such as data usage, call volumes, customer complaints, network preferences, and tenure. The objective is to understand churn triggers and group users into behavioral segments to guide retention and loyalty strategies.

---

### 2. Libraries and Display Settings
```python
import pandas as pd
import numpy as np
import matplotlib.pyplot as plt
import seaborn as sns

# Set display preferences
pd.set_option('display.width', 200)
pd.set_option('display.max_columns', None)
pd.set_option('display.max_colwidth', None)
pd.options.display.float_format = '{:.0f}'.format
```

---

### 3. Load and Clean Data
```python
file_path= r"C:\Users\PC\OneDrive\Documents\My First Project\RAW TRAIN.xlsx"
df=pd.read_excel(file_path)

# Standardize column names
df.rename(columns= {'Total Spend in Months 1 and 2 of 2017': 'total spend in jan & feb'}, inplace=True) 
df.rename(columns= {'Network type subscription in Month 1': 'Network type subscription in Jan'}, inplace=True) 
df.rename(columns= {'Network type subscription in Month 2': 'Network type subscription in Feb'}, inplace=True) 
df.columns = df.columns.str.strip().str.lower().str.replace(' ','_')

# Convert to numeric
numeric_cols = ['network_age', 'customer_tenure_in_month', 'total_spend_in_jan_&_feb',
    'total_sms_spend', 'total_data_spend', 'total_data_consumption',
    'total_unique_calls', 'total_onnet_spend', 'total_offnet_spend',
    'total_call_spend', 'total_call_centre_complaint_calls']
df[numeric_cols] = df[numeric_cols].apply(pd.to_numeric, errors='coerce')

# Fill missing fields
df['network_type_subscription_in_jan'] = df['network_type_subscription_in_jan'].fillna('No network')
df['network_type_subscription_in_feb'] = df['network_type_subscription_in_feb'].fillna('No network')
df['most_loved_competitor_network_in_month_1'] = df['most_loved_competitor_network_in_month_1'].fillna('None')
df['most_loved_competitor_network_in_month_2'] = df['most_loved_competitor_network_in_month_2'].fillna('None')

# Churn Label
df['churn_label'] = np.where(df['churn_status'] == 1, 'churned', 'active')

# Remove anomalies
df['anomaly_network_age'] = df['network_age'] <= 0
anomalous_ids = ['ADF0631', 'ADF1925', 'ADF1623']
df = df.set_index('customer_id')
df = df.drop(anomalous_ids).reset_index()
```

---

### 4. Journey and Device Segmentation
```python
# Journey Type Classification
def classify_journey(row):
    n1 = row['network_type_subscription_in_jan'].lower()
    n2 = row['network_type_subscription_in_feb'].lower()
    if n1 == '2g' and n2 == '3g': return 'upgrade'
    elif n1 == '3g' and n2 == '2g': return 'downgrade'
    elif n1 == n2 == '2g': return 'static_2g'
    elif n1 == n2 == '3g': return 'static_3g'
    elif n1 == 'no network' and n2 in ['2g', '3g']: return 'reactivated'
    elif n1 in ['2g', '3g'] and n2 == 'no network': return 'disconnected'
    else: return 'other'
df['journey_type'] = df.apply(classify_journey, axis=1)

# Device classification
def classify_device(row):
    net = row['network_type_subscription_in_feb'].lower()
    data = row['total_data_consumption']
    if net == '2g' and data < 300: return 'Feature Phone (2G)'
    elif net == '3g' and data >= 300: return 'Smartphone (3G)'
    elif net in ['no network', 'others']:
        return 'Smartphone (Unknown Network)' if data >= 300 else 'Inactive / Feature Phone'
    else: return 'Unclassified'
df['refined_device_type'] = df.apply(classify_device, axis=1)
```

---
